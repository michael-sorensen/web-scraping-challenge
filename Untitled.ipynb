{
 "cells": [
  {
   "cell_type": "code",
   "execution_count": 2,
   "id": "729743dc",
   "metadata": {},
   "outputs": [
    {
     "name": "stdout",
     "output_type": "stream",
     "text": [
      "1056\n",
      "{'files': [{'url': 'https://www.fbi.gov/wanted/murders/jarvis-wright/download.pdf', 'name': 'English'}], 'age_range': None, 'uid': 'b3a03e042ad948ffa8001b85bf68159f', 'weight': 'Approximately 175 to 180 pounds', 'occupations': None, 'field_offices': ['chicago'], 'locations': None, 'reward_text': 'The FBI is offering a reward of up to $1,000 for information leading to the arrest and conviction of Jarvis Wright.', 'hair': 'black', 'ncic': None, 'dates_of_birth_used': ['April 19, 1994'], 'caution': '<p>The FBI’s Chicago Field Office is assisting the Sauk Village Police Department (SVPD) in Illinois with their investigation regarding Jarvis Wright. Wright is wanted in connection with the shooting death of a male victim after an argument at the victim’s birthday party. On July 17, 2021, SVPD officers responded to the Sauk Valley, Illinois, residence after a report of gunfire, identifying one male victim who had been shot in the chest. The victim was transported to a local hospital where he died from his wounds.</p>\\r\\n<p>On August 13, 2021, a state arrest warrant was issued by the Circuit Court of Cook County, Illinois, charging Jarvis Wright with first degree murder. On September 8, 2021, the United States District Court, Northern District of Illinois, Eastern Division, issued a federal arrest warrant charging Wright with unlawful flight to avoid prosecution and custody.</p>\\r\\n<p>\\xa0</p>', 'nationality': None, 'age_min': None, 'age_max': None, 'scars_and_marks': None, 'subjects': ['Violent Crime - Murders'], 'aliases': ['Jarvo'], 'race_raw': 'Black', 'suspects': None, 'publication': '2021-10-15T12:01:00', 'title': 'JARVIS WRIGHT', 'coordinates': [], 'hair_raw': 'Black', 'languages': None, 'complexion': None, 'build': None, 'details': None, 'status': 'na', 'legat_names': None, 'eyes': 'brown', 'person_classification': 'Main', 'description': 'Unlawful Flight to Avoid Prosecution and Custody - First Degree Murder', 'images': [{'large': 'https://www.fbi.gov/wanted/murders/jarvis-wright/@@images/image/large', 'caption': 'Photograph taken in 2012', 'thumb': 'https://www.fbi.gov/wanted/murders/jarvis-wright/@@images/image/thumb', 'original': 'https://www.fbi.gov/wanted/murders/jarvis-wright/@@images/image'}, {'large': 'https://www.fbi.gov/wanted/murders/jarvis-wright/wright2.jpg/@@images/image/large', 'caption': '', 'thumb': 'https://www.fbi.gov/wanted/murders/jarvis-wright/wright2.jpg/@@images/image/thumb', 'original': 'https://www.fbi.gov/wanted/murders/jarvis-wright/wright2.jpg'}], 'possible_countries': None, 'weight_min': 175, 'additional_information': None, 'remarks': '<p>Jarvis Wright has ties to\\xa0Wisconsin, Indiana, and Chicago.</p>', 'path': '/wanted/murders/jarvis-wright', 'sex': 'Male', 'eyes_raw': 'Brown', 'weight_max': 180, 'reward_min': 0, 'url': 'https://www.fbi.gov/wanted/murders/jarvis-wright', 'possible_states': None, 'modified': '2021-10-19T16:14:01+00:00', 'reward_max': 0, 'race': 'black', 'height_max': 71, 'place_of_birth': None, 'height_min': 70, 'warning_message': 'SHOULD BE CONSIDERED ARMED AND DANGEROUS', '@id': 'https://api.fbi.gov/@wanted-person/b3a03e042ad948ffa8001b85bf68159f'}\n"
     ]
    }
   ],
   "source": [
    "import requests\n",
    "import json\n",
    "\n",
    "response = requests.get('https://api.fbi.gov/wanted/v1/list')\n",
    "data = json.loads(response.content)\n",
    "print(data['total'])\n",
    "print(data['items'][0])"
   ]
  },
  {
   "cell_type": "code",
   "execution_count": null,
   "id": "ff7ac94d",
   "metadata": {},
   "outputs": [],
   "source": []
  }
 ],
 "metadata": {
  "kernelspec": {
   "display_name": "Python 3",
   "language": "python",
   "name": "python3"
  },
  "language_info": {
   "codemirror_mode": {
    "name": "ipython",
    "version": 3
   },
   "file_extension": ".py",
   "mimetype": "text/x-python",
   "name": "python",
   "nbconvert_exporter": "python",
   "pygments_lexer": "ipython3",
   "version": "3.8.8"
  }
 },
 "nbformat": 4,
 "nbformat_minor": 5
}
